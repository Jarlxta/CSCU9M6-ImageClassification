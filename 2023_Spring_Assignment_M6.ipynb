{
 "nbformat": 4,
 "nbformat_minor": 0,
 "metadata": {
  "colab": {
   "provenance": []
  },
  "kernelspec": {
   "name": "python3",
   "display_name": "Python 3"
  },
  "language_info": {
   "name": "python"
  }
 },
 "cells": [
  {
   "cell_type": "markdown",
   "source": [
    "---\n",
    "\n",
    "#University of Stirling - Spring 2023\n",
    "\n",
    "## CSCU9M6 - Natural Language Processing and Computer Vision (2022/3)\n",
    "\n",
    "---"
   ],
   "metadata": {
    "id": "4i5afvUbhmGo"
   }
  },
  {
   "cell_type": "markdown",
   "source": [
    "# Assignment Summary\n",
    "\n",
    "In this activity, you are required to apply the knowledge acquired in this module through the design and development of a complete project for image classification in an application to be defined by yourself. For this, you will need to perform the following **mandatory** steps:\n",
    "\n",
    "1. [Problem definition](#scrollTo=hglJVRRslqMn)\n",
    "2. [GitHub repository](#scrollTo=ecxDhkV9qmUf)\n",
    "3. [Dataset](#scrollTo=qEgFzxmWrGA9)\n",
    "4. [Dataloader](#scrollTo=EDd6lLwlx4un)\n",
    "5. [Proposed solution](#scrollTo=ScTrpUW8zOp4)\n",
    "6. [Experimental tests and evaluations](#scrollTo=3RBW58of0ZDo)\n",
    "7. [Quiz and Report](#scrollTo=ws14iV4Dp_vf)\n",
    "\n",
    "**Deadlines** and other details can be seen on Canvas [\\[link\\]](https://canvas.stir.ac.uk/courses/12587/assignments/102373)."
   ],
   "metadata": {
    "id": "cJZF464wk6Xh"
   }
  },
  {
   "cell_type": "markdown",
   "source": [
    "---\n",
    "\n",
    "# 1. **Problem definition** \n",
    "\n",
    "\n",
    "In this assignment, you are required to apply the knowledge acquired in the module to solve a classification problem from images collected in the context of two different cities (A and B).\n",
    " - If the work is being carried out in pairs, **cities A and B must be the hometowns of each student**. In the case of individual work, city A must be your hometown and city B must be Stirling (or Edinburgh, if needed).\n",
    " - The standard recommendation is that the project focuses on classifying cars or trees image scenes, which are easier to identify and annotate. Other objects or phenomena can be adopted, but are subject to prior approval by the module instructor (Jefersson A. dos Santos). **You are not allowed to assemble datasets containing people. Other sensitive patterns, such as license plates, must be properly hidden.**\n",
    " - Don't panic! We are aware that acquiring images _in situ_ is an impediment for most students. The dataset can be assembled with images collected remotely or from public repositories. Just be careful with rights and permissions for using images found on the internet. Anyway, these factors must be taken into account for the problem definition.\n",
    " - While we encourage you to do interesting and engaging work, it shouldn't be too complex or time-consuming. Try to appropriately scale the time required for this step. Ask the instructors for advice, if necessary. **GA students:** you are encouraged to link the project with your work activities, but keep in mind you still need to construct two datasets (A and B). \n",
    "\n",
    "[top](#scrollTo=4i5afvUbhmGo)\n",
    " "
   ],
   "metadata": {
    "id": "hglJVRRslqMn"
   }
  },
  {
   "cell_type": "markdown",
   "source": [
    "---\n",
    "# 2. **GitHub repository**\n",
    "\n",
    "Give your project a name, create a private [GitHub repository](https://github.com/) with the name [Module Code] + [Project Name] and give access to the module instructors. Create a cover page with a description of your project. This empty notebook must be uploaded in the repository as well as the created dataset. The deadline to perform this task will be 10 days after the publication of this notebook. \n",
    "This notebook should be updated and committed to the repository according to the deadlines.\n",
    "The repository's update history will be used as a criterion for monitoring and evaluating the work.\n",
    "**Check the videos provided in the extra section on Canvas for more details on how to create your GitHub repository** [\\[link\\]](https://canvas.stir.ac.uk/courses/12587/pages/extra-session-cnn-hyperparameters-and-github).\n",
    "\n",
    "[top](#scrollTo=4i5afvUbhmGo)"
   ],
   "metadata": {
    "id": "ecxDhkV9qmUf"
   }
  },
  {
   "cell_type": "markdown",
   "source": [
    "---\n",
    "# 3. **Dataset creation**\n",
    "\n",
    "You must collect a minimum of **200 positive samples** from the study objects for each city (A and B). \n",
    "Note that, depending on the task being solved, it will also be necessary to collect more samples - negative ones, for instance.\n",
    "\n",
    "Your dataset can be assembled from one or more of the following ways:\n",
    "\n",
    "  - *M1* - Pictures taken by yourself on site (street view from cities A and B), with attention to anonymization issues (if it is the case). It is not allowed to assemble datasets containing people. Other sensitive patterns, such as license plates, must be properly hidden.\n",
    "\n",
    "  - *M2* - Aerial satellite/drone images obtained from GIS and remote sensing platforms or public repositories. Be careful with unusual file formats that may be challenging to manipulate using basic image processing libraries. We recommend keeping or converting the images to jpg or png.\n",
    "\n",
    "  - *M3* - Pictures taken from other public available datasets. Remember you are not allowed to use datasets containing people or other sensitive patterns/objects.\n",
    "\n",
    "  - *M4* - Images crawled from the internet as a whole (social networks, webpages, etc), with special attention to use and copyrights.\n",
    "\n",
    "  - *M5* - Textual and metadata you may need in your project, with special attention to use and copyrights (as always!).\n",
    "\n",
    "**Important:** If you collect the images on your own or from aerial imagery repositories, it will be necessary to keep the geographic coordinates. If you collect from specific websites, please retain the source links. This information should be placed in a .csv file and made available along with the final dataset.\n",
    "\n",
    "[top](#scrollTo=4i5afvUbhmGo)"
   ],
   "metadata": {
    "id": "qEgFzxmWrGA9"
   }
  },
  {
   "cell_type": "code",
   "execution_count": 17,
   "outputs": [
    {
     "name": "stdout",
     "output_type": "stream",
     "text": [
      "Requirement already satisfied: split-image in c:\\users\\hunter\\anaconda3\\lib\\site-packages (2.0.1)\n",
      "Requirement already satisfied: Pillow in c:\\users\\hunter\\anaconda3\\lib\\site-packages (from split-image) (9.3.0)\n",
      "Resizing image to a square...\n",
      "Determining background color...\n",
      "Background color is... (0, 0, 0, 255)\n",
      "Exporting resized image...\n",
      "Exporting image tile: ./Stirling St Modans_0.jpg\n",
      "Exporting image tile: ./Stirling St Modans_1.jpg\n",
      "Exporting image tile: ./Stirling St Modans_2.jpg\n",
      "Exporting image tile: ./Stirling St Modans_3.jpg\n",
      "Exporting image tile: ./Stirling St Modans_4.jpg\n",
      "Exporting image tile: ./Stirling St Modans_5.jpg\n",
      "Exporting image tile: ./Stirling St Modans_6.jpg\n",
      "Exporting image tile: ./Stirling St Modans_7.jpg\n",
      "Exporting image tile: ./Stirling St Modans_8.jpg\n",
      "Exporting image tile: ./Stirling St Modans_9.jpg\n",
      "Exporting image tile: ./Stirling St Modans_10.jpg\n",
      "Exporting image tile: ./Stirling St Modans_11.jpg\n",
      "Exporting image tile: ./Stirling St Modans_12.jpg\n",
      "Exporting image tile: ./Stirling St Modans_13.jpg\n",
      "Exporting image tile: ./Stirling St Modans_14.jpg\n",
      "Exporting image tile: ./Stirling St Modans_15.jpg\n",
      "Exporting image tile: ./Stirling St Modans_16.jpg\n",
      "Exporting image tile: ./Stirling St Modans_17.jpg\n",
      "Exporting image tile: ./Stirling St Modans_18.jpg\n",
      "Exporting image tile: ./Stirling St Modans_19.jpg\n",
      "Exporting image tile: ./Stirling St Modans_20.jpg\n",
      "Exporting image tile: ./Stirling St Modans_21.jpg\n",
      "Exporting image tile: ./Stirling St Modans_22.jpg\n",
      "Exporting image tile: ./Stirling St Modans_23.jpg\n",
      "Exporting image tile: ./Stirling St Modans_24.jpg\n",
      "Exporting image tile: ./Stirling St Modans_25.jpg\n",
      "Exporting image tile: ./Stirling St Modans_26.jpg\n",
      "Exporting image tile: ./Stirling St Modans_27.jpg\n",
      "Exporting image tile: ./Stirling St Modans_28.jpg\n",
      "Exporting image tile: ./Stirling St Modans_29.jpg\n",
      "Exporting image tile: ./Stirling St Modans_30.jpg\n",
      "Exporting image tile: ./Stirling St Modans_31.jpg\n",
      "Exporting image tile: ./Stirling St Modans_32.jpg\n",
      "Exporting image tile: ./Stirling St Modans_33.jpg\n",
      "Exporting image tile: ./Stirling St Modans_34.jpg\n",
      "Exporting image tile: ./Stirling St Modans_35.jpg\n",
      "Exporting image tile: ./Stirling St Modans_36.jpg\n",
      "Exporting image tile: ./Stirling St Modans_37.jpg\n",
      "Exporting image tile: ./Stirling St Modans_38.jpg\n",
      "Exporting image tile: ./Stirling St Modans_39.jpg\n",
      "Exporting image tile: ./Stirling St Modans_40.jpg\n",
      "Exporting image tile: ./Stirling St Modans_41.jpg\n",
      "Exporting image tile: ./Stirling St Modans_42.jpg\n",
      "Exporting image tile: ./Stirling St Modans_43.jpg\n",
      "Exporting image tile: ./Stirling St Modans_44.jpg\n",
      "Exporting image tile: ./Stirling St Modans_45.jpg\n",
      "Exporting image tile: ./Stirling St Modans_46.jpg\n",
      "Exporting image tile: ./Stirling St Modans_47.jpg\n",
      "Exporting image tile: ./Stirling St Modans_48.jpg\n",
      "Exporting image tile: ./Stirling St Modans_49.jpg\n",
      "Exporting image tile: ./Stirling St Modans_50.jpg\n",
      "Exporting image tile: ./Stirling St Modans_51.jpg\n",
      "Exporting image tile: ./Stirling St Modans_52.jpg\n",
      "Exporting image tile: ./Stirling St Modans_53.jpg\n",
      "Exporting image tile: ./Stirling St Modans_54.jpg\n",
      "Exporting image tile: ./Stirling St Modans_55.jpg\n",
      "Exporting image tile: ./Stirling St Modans_56.jpg\n",
      "Exporting image tile: ./Stirling St Modans_57.jpg\n",
      "Exporting image tile: ./Stirling St Modans_58.jpg\n",
      "Exporting image tile: ./Stirling St Modans_59.jpg\n",
      "Exporting image tile: ./Stirling St Modans_60.jpg\n",
      "Exporting image tile: ./Stirling St Modans_61.jpg\n",
      "Exporting image tile: ./Stirling St Modans_62.jpg\n",
      "Exporting image tile: ./Stirling St Modans_63.jpg\n",
      "Exporting image tile: ./Stirling St Modans_64.jpg\n",
      "Exporting image tile: ./Stirling St Modans_65.jpg\n",
      "Exporting image tile: ./Stirling St Modans_66.jpg\n",
      "Exporting image tile: ./Stirling St Modans_67.jpg\n",
      "Exporting image tile: ./Stirling St Modans_68.jpg\n",
      "Exporting image tile: ./Stirling St Modans_69.jpg\n",
      "Exporting image tile: ./Stirling St Modans_70.jpg\n",
      "Exporting image tile: ./Stirling St Modans_71.jpg\n",
      "Exporting image tile: ./Stirling St Modans_72.jpg\n",
      "Exporting image tile: ./Stirling St Modans_73.jpg\n",
      "Exporting image tile: ./Stirling St Modans_74.jpg\n",
      "Exporting image tile: ./Stirling St Modans_75.jpg\n",
      "Exporting image tile: ./Stirling St Modans_76.jpg\n",
      "Exporting image tile: ./Stirling St Modans_77.jpg\n",
      "Exporting image tile: ./Stirling St Modans_78.jpg\n",
      "Exporting image tile: ./Stirling St Modans_79.jpg\n",
      "Exporting image tile: ./Stirling St Modans_80.jpg\n",
      "Exporting image tile: ./Stirling St Modans_81.jpg\n",
      "Exporting image tile: ./Stirling St Modans_82.jpg\n",
      "Exporting image tile: ./Stirling St Modans_83.jpg\n",
      "Exporting image tile: ./Stirling St Modans_84.jpg\n",
      "Exporting image tile: ./Stirling St Modans_85.jpg\n",
      "Exporting image tile: ./Stirling St Modans_86.jpg\n",
      "Exporting image tile: ./Stirling St Modans_87.jpg\n",
      "Exporting image tile: ./Stirling St Modans_88.jpg\n",
      "Exporting image tile: ./Stirling St Modans_89.jpg\n",
      "Exporting image tile: ./Stirling St Modans_90.jpg\n",
      "Exporting image tile: ./Stirling St Modans_91.jpg\n",
      "Exporting image tile: ./Stirling St Modans_92.jpg\n",
      "Exporting image tile: ./Stirling St Modans_93.jpg\n",
      "Exporting image tile: ./Stirling St Modans_94.jpg\n",
      "Exporting image tile: ./Stirling St Modans_95.jpg\n",
      "Exporting image tile: ./Stirling St Modans_96.jpg\n",
      "Exporting image tile: ./Stirling St Modans_97.jpg\n",
      "Exporting image tile: ./Stirling St Modans_98.jpg\n",
      "Exporting image tile: ./Stirling St Modans_99.jpg\n",
      "Exporting image tile: ./Stirling St Modans_100.jpg\n",
      "Exporting image tile: ./Stirling St Modans_101.jpg\n",
      "Exporting image tile: ./Stirling St Modans_102.jpg\n",
      "Exporting image tile: ./Stirling St Modans_103.jpg\n",
      "Exporting image tile: ./Stirling St Modans_104.jpg\n",
      "Exporting image tile: ./Stirling St Modans_105.jpg\n",
      "Exporting image tile: ./Stirling St Modans_106.jpg\n",
      "Exporting image tile: ./Stirling St Modans_107.jpg\n",
      "Exporting image tile: ./Stirling St Modans_108.jpg\n",
      "Exporting image tile: ./Stirling St Modans_109.jpg\n",
      "Exporting image tile: ./Stirling St Modans_110.jpg\n",
      "Exporting image tile: ./Stirling St Modans_111.jpg\n",
      "Exporting image tile: ./Stirling St Modans_112.jpg\n",
      "Exporting image tile: ./Stirling St Modans_113.jpg\n",
      "Exporting image tile: ./Stirling St Modans_114.jpg\n",
      "Exporting image tile: ./Stirling St Modans_115.jpg\n",
      "Exporting image tile: ./Stirling St Modans_116.jpg\n",
      "Exporting image tile: ./Stirling St Modans_117.jpg\n",
      "Exporting image tile: ./Stirling St Modans_118.jpg\n",
      "Exporting image tile: ./Stirling St Modans_119.jpg\n",
      "Exporting image tile: ./Stirling St Modans_120.jpg\n",
      "Exporting image tile: ./Stirling St Modans_121.jpg\n",
      "Exporting image tile: ./Stirling St Modans_122.jpg\n",
      "Exporting image tile: ./Stirling St Modans_123.jpg\n",
      "Exporting image tile: ./Stirling St Modans_124.jpg\n",
      "Exporting image tile: ./Stirling St Modans_125.jpg\n",
      "Exporting image tile: ./Stirling St Modans_126.jpg\n",
      "Exporting image tile: ./Stirling St Modans_127.jpg\n",
      "Exporting image tile: ./Stirling St Modans_128.jpg\n",
      "Exporting image tile: ./Stirling St Modans_129.jpg\n",
      "Exporting image tile: ./Stirling St Modans_130.jpg\n",
      "Exporting image tile: ./Stirling St Modans_131.jpg\n",
      "Exporting image tile: ./Stirling St Modans_132.jpg\n",
      "Exporting image tile: ./Stirling St Modans_133.jpg\n",
      "Exporting image tile: ./Stirling St Modans_134.jpg\n",
      "Exporting image tile: ./Stirling St Modans_135.jpg\n",
      "Exporting image tile: ./Stirling St Modans_136.jpg\n",
      "Exporting image tile: ./Stirling St Modans_137.jpg\n",
      "Exporting image tile: ./Stirling St Modans_138.jpg\n",
      "Exporting image tile: ./Stirling St Modans_139.jpg\n",
      "Exporting image tile: ./Stirling St Modans_140.jpg\n",
      "Exporting image tile: ./Stirling St Modans_141.jpg\n",
      "Exporting image tile: ./Stirling St Modans_142.jpg\n",
      "Exporting image tile: ./Stirling St Modans_143.jpg\n"
     ]
    }
   ],
   "source": [
    "!pip install split-image\n",
    "\n",
    "from split_image import split_image\n",
    "\n",
    "image_path = \"Stirling Images/Stirling St Modans.jpg\"\n",
    "split_image(image_path, 9, 16, True, False)"
   ],
   "metadata": {
    "collapsed": false
   }
  },
  {
   "cell_type": "markdown",
   "source": [
    "---\n",
    "\n",
    "# 4. **Dataloader**\n",
    "\n",
    "Here you are required to implement all the code related to pre-processing, cleaning, de-noising and preparing the input images and metadata according to the necessary data structures as input to your pattern recognition module. We recommend using [PyTorch](https://pytorch.org/tutorials/beginner/basics/data_tutorial.html) or [Tensorflow (with Keras)](https://keras.io/getting_started/intro_to_keras_for_engineers/) as a base, but you are free to use any library or platform as long as it is well justified in the [final report](#scrollTo=ws14iV4Dp_vf).\n",
    "\n",
    "[top](scrollTo=4i5afvUbhmGo)"
   ],
   "metadata": {
    "id": "EDd6lLwlx4un"
   }
  },
  {
   "cell_type": "code",
   "source": [
    "# Write your dataloader code here. Create more code cells if you find it necessary\n",
    "\n",
    "\n",
    "\n"
   ],
   "metadata": {
    "id": "RaPd82NmyNCK"
   },
   "execution_count": null,
   "outputs": []
  },
  {
   "cell_type": "markdown",
   "source": [
    "---\n",
    "\n",
    "# 5. **Proposed solution** \n",
    "\n",
    "This is where you should implement most of your code for your solution. Write the routines for training and predicting the models and any necessary intermediate steps. Post-processing functions must also be implemented here.\n",
    "\n",
    "  - Use good programming practices, modularizing and adequately commenting on your code. Code quality will be considered in the final assessment.\n",
    "\n",
    "  - You can use pre-trained models as backbones or any code available on the web as a basis, but they must be correctly credited and referenced both in this notebook and in the final report. Cite the source link repository and explicitly cite the authors of it.\n",
    "If you changed existing code, make it clear what the changes were.\n",
    "Make it clear where your own code starts and where it ends. Note that the originality percentage of the code will be considered in the evaluation, so use external codes wisely and sparingly. **Missconduct alert:** remember that there are many tools that compare existing source code and that it is relatively easy to identify authorship. So, be careful and fair by always properly thanking the authors if you use external code.\n",
    "\n",
    "[top](#scrollTo=4i5afvUbhmGo)"
   ],
   "metadata": {
    "id": "ScTrpUW8zOp4"
   }
  },
  {
   "cell_type": "code",
   "source": [
    "# Write your proposed solution code here. Create more code cells if you find it necessary\n",
    "\n",
    "\n",
    "\n"
   ],
   "metadata": {
    "id": "jJs8HpW_zX0M"
   },
   "execution_count": null,
   "outputs": []
  },
  {
   "cell_type": "markdown",
   "source": [
    "---\n",
    "\n",
    "# 6. **Experimental tests and evaluations** \n",
    "\n",
    "\n",
    "Here you must implement your code for training, testing and evaluating your solution. For this, the following code blocks (*E1*, *E2*, and *E3*) are mandatory:\n",
    "\n",
    "  - *E1* - Training the models. Implement code to call the dataloaders implemented for training your models.  Make routines to test different parameters of your models. Plot graphs that illustrate how parameters impact model training. Compare. Train and select a model for each city (A and B) and justify. You should use half (50%) of the samples from each dataset for training and leave the other half for testing (50%). \n",
    "\n",
    "[top](#scrollTo=4i5afvUbhmGo)"
   ],
   "metadata": {
    "id": "3RBW58of0ZDo"
   }
  },
  {
   "cell_type": "code",
   "source": [
    "# Write your codes for E1 here. Create more code cells if needed\n",
    "\n",
    "\n",
    "\n"
   ],
   "metadata": {
    "id": "jHWwdXg32BEl"
   },
   "execution_count": null,
   "outputs": []
  },
  {
   "cell_type": "markdown",
   "source": [
    "  - *E2* - Testing the models in the dataset. You must implement code routines to test the predictive ability of your models using half of each dataset intended for testing. **The model trained in city A must be tested in city A. The model trained in city B must be tested in city B.** Use the evaluation metrics (accuracy, F1-score, AUC, etc) that are most appropriate for your problem. Plot graphs that illustrate the results obtained for each city (A and B). Plot visual examples of correctly (true positive) and incorrectly (false positive) classified samples. \n",
    "\n",
    "[top](#scrollTo=4i5afvUbhmGo)\n"
   ],
   "metadata": {
    "id": "TunTimEv1szf"
   }
  },
  {
   "cell_type": "code",
   "source": [
    "# Write your codes for E2 here. Create more code cells if needed\n",
    "\n",
    "\n",
    "\n"
   ],
   "metadata": {
    "id": "_s6ygCpi2CO8"
   },
   "execution_count": null,
   "outputs": []
  },
  {
   "cell_type": "markdown",
   "source": [
    "  - *E3* - Testing the models crossing datasets. Here you must do exactly the same as in *E2*, but now training in one city and testing in the other. **The model trained in city A must be tested in city B. The model trained in city B must be tested in city A.** Use the same metrics and plot the same types of graphs so that results are comparable.\n",
    "\n",
    "[top](scrollTo=4i5afvUbhmGo)"
   ],
   "metadata": {
    "id": "bZ0zVXjQ1x0_"
   }
  },
  {
   "cell_type": "code",
   "source": [
    "# Write your codes for E3 here. Create more code cells if needed\n",
    "\n",
    "\n",
    "\n"
   ],
   "metadata": {
    "id": "Cotguzxyo3Sa"
   },
   "execution_count": null,
   "outputs": []
  },
  {
   "cell_type": "markdown",
   "source": [
    "---\n",
    "\n",
    "# 7. **Quiz and Report**\n",
    "\n",
    "Answer the assessment quiz that will be made available on Canvas one week before the final deadline. Make a 2-page report using the [IEEE template](https://www.overleaf.com/read/rdqwshtvyjdn) with a maximum of 1000 words. Latex is recommended, but you can deliver the report in MS Word if you prefer. Your report should contain five sections: introduction, description of the proposed solution with justifications, results (here you can include the same graphs and pictures generated in this jupyter notebook), discussion of the results, and conclusion. Properly cite references to articles, tutorials, and sources used. A pdf version of your report should be made available in the project's github repository under the name \"[project name] + _final_report.pdf\".\n",
    "\n",
    "\n",
    "[top](#scrollTo=4i5afvUbhmGo)"
   ],
   "metadata": {
    "id": "ws14iV4Dp_vf"
   }
  }
 ]
}
